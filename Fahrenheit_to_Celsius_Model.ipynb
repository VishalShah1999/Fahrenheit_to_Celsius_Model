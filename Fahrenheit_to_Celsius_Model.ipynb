{
  "nbformat": 4,
  "nbformat_minor": 0,
  "metadata": {
    "colab": {
      "name": "Fahrenheit to Celsius Model.ipynb",
      "provenance": [],
      "collapsed_sections": []
    },
    "kernelspec": {
      "name": "python3",
      "display_name": "Python 3"
    }
  },
  "cells": [
    {
      "cell_type": "code",
      "metadata": {
        "id": "kdh5ntroJSs_",
        "colab_type": "code",
        "colab": {}
      },
      "source": [
        "import tensorflow as tf\n",
        "import numpy as np"
      ],
      "execution_count": 0,
      "outputs": []
    },
    {
      "cell_type": "code",
      "metadata": {
        "id": "Od9jWYkkJfvN",
        "colab_type": "code",
        "colab": {
          "base_uri": "https://localhost:8080/",
          "height": 118
        },
        "outputId": "915b764e-19ba-4532-ae3b-ae7d182ee3cd"
      },
      "source": [
        "celsius = np.array([-40, -10, 0, 8, 15, 22], dtype=float)\n",
        "fahrenheit = np.array([-40, 14, 32, 46, 59, 72], dtype=float)\n",
        "\n",
        "for i,c in enumerate(celsius):\n",
        "  print(\"{} degree celsius = {} degree fahrenheit\".format(c,fahrenheit[i]))"
      ],
      "execution_count": 5,
      "outputs": [
        {
          "output_type": "stream",
          "text": [
            "-40.0 degree celsius = -40.0 degree fahrenheit\n",
            "-10.0 degree celsius = 14.0 degree fahrenheit\n",
            "0.0 degree celsius = 32.0 degree fahrenheit\n",
            "8.0 degree celsius = 46.0 degree fahrenheit\n",
            "15.0 degree celsius = 59.0 degree fahrenheit\n",
            "22.0 degree celsius = 72.0 degree fahrenheit\n"
          ],
          "name": "stdout"
        }
      ]
    },
    {
      "cell_type": "code",
      "metadata": {
        "id": "_lZuDIpjK447",
        "colab_type": "code",
        "colab": {}
      },
      "source": [
        "model = tf.keras.Sequential([tf.keras.layers.Dense(units=1, input_shape=[1])])"
      ],
      "execution_count": 0,
      "outputs": []
    },
    {
      "cell_type": "code",
      "metadata": {
        "id": "-QEaapF4LLNN",
        "colab_type": "code",
        "colab": {}
      },
      "source": [
        "model.compile(loss=\"mean_squared_error\", optimizer=tf.keras.optimizers.Adam(0.1))"
      ],
      "execution_count": 0,
      "outputs": []
    },
    {
      "cell_type": "code",
      "metadata": {
        "id": "0X92pt_ILtDy",
        "colab_type": "code",
        "colab": {
          "base_uri": "https://localhost:8080/",
          "height": 34
        },
        "outputId": "0d0b32f6-3bc5-47ab-ec38-bfd0ce8d5eac"
      },
      "source": [
        "history = model.fit(celsius, fahrenheit, epochs=500, verbose=False)\n",
        "print(\"Finish Training the Model\")"
      ],
      "execution_count": 14,
      "outputs": [
        {
          "output_type": "stream",
          "text": [
            "Finish Training the Model\n"
          ],
          "name": "stdout"
        }
      ]
    },
    {
      "cell_type": "code",
      "metadata": {
        "id": "Iqk6HIO-L-Vw",
        "colab_type": "code",
        "colab": {
          "base_uri": "https://localhost:8080/",
          "height": 34
        },
        "outputId": "9f1a3668-c6d3-49ad-a175-850ffc3cee17"
      },
      "source": [
        "print(model.predict([10]))"
      ],
      "execution_count": 19,
      "outputs": [
        {
          "output_type": "stream",
          "text": [
            "[[50.003216]]\n"
          ],
          "name": "stdout"
        }
      ]
    },
    {
      "cell_type": "code",
      "metadata": {
        "id": "9gp_fnCjNCsV",
        "colab_type": "code",
        "colab": {}
      },
      "source": [
        ""
      ],
      "execution_count": 0,
      "outputs": []
    }
  ]
}